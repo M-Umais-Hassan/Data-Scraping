{
 "cells": [
  {
   "cell_type": "code",
   "execution_count": 1,
   "metadata": {},
   "outputs": [],
   "source": [
    "import requests\n",
    "from bs4 import BeautifulSoup\n",
    "import pandas as pd\n",
    "from matplotlib import pyplot as plt\n",
    "import csv"
   ]
  },
  {
   "cell_type": "markdown",
   "metadata": {},
   "source": [
    "### This function is getting the whole page"
   ]
  },
  {
   "cell_type": "code",
   "execution_count": 2,
   "metadata": {},
   "outputs": [],
   "source": [
    "def get_page(url):\n",
    "    response = requests.get(url)\n",
    "    soup = BeautifulSoup(response.text)\n",
    "    return soup"
   ]
  },
  {
   "cell_type": "markdown",
   "metadata": {},
   "source": [
    "### This function is for getting detailed data of a product"
   ]
  },
  {
   "cell_type": "code",
   "execution_count": 3,
   "metadata": {},
   "outputs": [],
   "source": [
    "def detail_data(soup):\n",
    "    try:\n",
    "        name = soup.find('h1', id='itemTitle').text.strip().replace('Details about  \\xa0', ' ')\n",
    "    except:\n",
    "        name = ''\n",
    "    try:\n",
    "        price = soup.find('div', id='vi-mskumap-none').find('span').text.strip()\n",
    "    except:\n",
    "        price = ''\n",
    "    try:\n",
    "        sold = soup.find('span', class_='vi-qtyS-hot-red').find('a').text.strip().split(' ')[0]\n",
    "    except:\n",
    "        sold = ''\n",
    "    product_details = {\n",
    "        'name' : name,\n",
    "        'price' : price,\n",
    "        'total_sold' : sold\n",
    "    }\n",
    "    \n",
    "    return product_details"
   ]
  },
  {
   "cell_type": "markdown",
   "metadata": {},
   "source": [
    "### This function is getting all urls"
   ]
  },
  {
   "cell_type": "code",
   "execution_count": 4,
   "metadata": {},
   "outputs": [],
   "source": [
    "def get_page_links(soup):\n",
    "    try:\n",
    "        links = soup.find_all(\"a\", class_=\"s-item__link\")\n",
    "    except:\n",
    "        links = []\n",
    "        \n",
    "    urls = [item.get('href') for item in links]\n",
    "    \n",
    "    return urls"
   ]
  },
  {
   "cell_type": "markdown",
   "metadata": {},
   "source": [
    "### This is the main function"
   ]
  },
  {
   "cell_type": "code",
   "execution_count": 5,
   "metadata": {},
   "outputs": [
    {
     "name": "stdout",
     "output_type": "stream",
     "text": [
      "Hello! this is the ebay data scraping robot.\n",
      "---------------------------------------------\n",
      "Enter name of the product you want to extract\n",
      "watches\n",
      "What kind of extration you want?\n",
      "--------------------------------\n",
      "1. Single Page\n",
      "2. Multiple pages\n",
      "Single\n",
      "Enter the page number you want to scrap\n",
      "---------------------------------------\n",
      "4\n",
      "{'name': \" One Hand Luch Mechanical Wristwatch Men's leather Vintage White 77471760 RUS\", 'price': 'US $48.98', 'total_sold': '309'}\n",
      "{'name': ' Poljot Swiss Eta Automatic Eta 2824/1929001 Classic Analog Russian Watch', 'price': 'US $328.20', 'total_sold': ''}\n",
      "{'name': \" Antique Vintage Swiss Watch 17Jewels FHF ST96 HAND WINDING Black Dial Men's\", 'price': 'US $49.00', 'total_sold': ''}\n",
      "{'name': ' Sapphire Glass CORGEUT 41mm Waterproof 10 ATM Watch Automatic Wristwatch', 'price': 'US $119.00', 'total_sold': ''}\n",
      "{'name': \" Fila FA0847-11 Abissi Men's Black Chronograph Date Silicone & Steel Watch\", 'price': '', 'total_sold': ''}\n",
      "{'name': \" Antique Vintage Swiss Watch 17Jewels FHF ST96 HAND WINDING Blue Dial Men's\", 'price': 'US $49.00', 'total_sold': ''}\n",
      "{'name': ' Vintage Seiko 5 Automatic Movement Day Date Dial Mens Wrist Watch AC277', 'price': 'US $22.09', 'total_sold': ''}\n",
      "{'name': ' Rotary working vintage mechanical wrist watch.', 'price': '', 'total_sold': ''}\n",
      "{'name': ' Vintage Seiko 5 Automatic Movement Day Date Dial Mens Wrist Watch AC275', 'price': 'US $22.09', 'total_sold': ''}\n",
      "{'name': ' Wrist Watch Pobeda Shturmovik IL-2 Vintage Soviet USSR', 'price': 'US $89.54', 'total_sold': ''}\n",
      "{'name': ' Vixa Automatic Wristwatch', 'price': '', 'total_sold': ''}\n",
      "{'name': \" Edox 10234 357GN NINB Men's Sharkman II L.E Black Quartz Watch\", 'price': 'US $617.89', 'total_sold': ''}\n",
      "{'name': \" Invicta 22587 Pro Diver Men's Teal Chronograph 12 & 24 Hour Analog Watch\", 'price': '', 'total_sold': ''}\n",
      "{'name': ' Elektronika 53Vintage Original Soviet Digital Watch 1980s', 'price': 'US $37.50', 'total_sold': ''}\n",
      "{'name': \" Antique Vintage Swiss Watch 17Jewels FHF ST96 HAND WINDING White Dial Men's\", 'price': 'US $49.00', 'total_sold': ''}\n",
      "{'name': \" Antique Vintage Swiss Watch 17Jewels FHF ST96 HAND WINDING White Dial Men's\", 'price': 'US $49.00', 'total_sold': ''}\n",
      "{'name': \" Antique Vintage Wrist Watch 17Jewels FHF ST96 HAND WINDING Silver Dial Men's\", 'price': 'US $49.00', 'total_sold': ''}\n",
      "{'name': ' Vintage Steel SEIKO Automatic Cross-Hair Dial Mens Watch', 'price': 'GBP 131.00', 'total_sold': ''}\n",
      "{'name': ' ➤NEW Invicta Men 48mm S1 YAKUZA DRAGON AUTOMATIC 18K Rose Gold Brown Strap Watch', 'price': '', 'total_sold': ''}\n",
      "{'name': ' NICE Vintage DOXA mechanical Swiss made watch Working', 'price': '', 'total_sold': ''}\n",
      "{'name': ' Mens Mechanical Wrist Watch Leather Band Skeleton Dial Luxury Watches Forsining', 'price': 'AU $45.57', 'total_sold': ''}\n",
      "{'name': ' SE1KO 5 SNKK55K1 Automatic Watch White Dial Seikonaut', 'price': 'US $399.00', 'total_sold': ''}\n",
      "{'name': ' Seiko S229-5001 Chronograph Pulsemeter Digital Quartz Mens Watch Auth Works', 'price': 'US $460.00', 'total_sold': ''}\n",
      "{'name': ' Automatic Mechanical Mens Watches Square Dial and Leather Strap Date Wristwatch', 'price': '', 'total_sold': ''}\n",
      "{'name': ' OMEGA Constellation  18K Gold And Steel MOP Dial Full Bar Ladies Watch Excellent', 'price': 'US $1,200.00', 'total_sold': ''}\n",
      "{'name': ' Vintage Seiko Mechanical Automatic Movement Day Date Dial Analog Watch U162', 'price': 'GBP 18.19', 'total_sold': ''}\n",
      "{'name': ' Komandirskie vintage watch Russia', 'price': '', 'total_sold': ''}\n",
      "{'name': ' AAA Top Luxury Brand Waterproof Watch Watches Automatic Wristwatches free delive', 'price': 'US $99.99', 'total_sold': ''}\n",
      "{'name': ' Vintage Citizen Automatic Movement Day Date Dial Mens Analog Watch AC135', 'price': 'US $22.09', 'total_sold': ''}\n",
      "{'name': ' Wristwatch with a white dial with a silver bracelet  Luch mechanical watches', 'price': '', 'total_sold': ''}\n",
      "{'name': \" Vintage Seiko 5 Movement Mens Analog Day Date Dial Men's Wrist Watch U73\", 'price': 'GBP 27.99', 'total_sold': ''}\n",
      "{'name': ' Vintage Caravelle Bulova Watch & Co Mechanical Wristwatch', 'price': '', 'total_sold': ''}\n",
      "{'name': ' Wittnauer Men NIB Mens Swiss Watch', 'price': '', 'total_sold': ''}\n",
      "{'name': \" TISSOT T-Sport PRC 200 T17.1.586.52 BLACK Wristwatch T461 Chronograph Men's\", 'price': '', 'total_sold': '69'}\n",
      "{'name': \" VINTAGE MEN'S RICOH WATER RESISTANT AUTOMATIC 21-J 37MM D/D WRIST WATCH A9634\", 'price': '', 'total_sold': ''}\n",
      "{'name': \" Fila Tendenze FA0832-11 Women's Analog Black Stainless Steel Bangle Style Watch\", 'price': '', 'total_sold': ''}\n",
      "{'name': \" Invicta Pro Diver 30759 Men's Round 1/10 Sec Chronograph 24 Hour Two Tone Watch\", 'price': '', 'total_sold': ''}\n",
      "{'name': \" Invicta Men's 10834 Reserve 53.7mm Silver Dial Stainless Steel/Silicone Watch\", 'price': 'US $195.64', 'total_sold': ''}\n",
      "{'name': ' MINI FOCUS Luxury Women Bracelet Quartz Watches Ladies Dress Rhinestone Watch', 'price': '', 'total_sold': ''}\n",
      "{'name': \" Men's Casio Data Bank 50 World Time Telememo Watch DB520A-1A\", 'price': 'US $28.69', 'total_sold': '297'}\n",
      "{'name': ' Apollo 11 25th Anniversary Watch - Day / Date- New Battery BAND', 'price': '', 'total_sold': ''}\n",
      "{'name': ' Ecclissi Mens Stainless Steel Chronograph 75545 Rare Watch', 'price': '', 'total_sold': ''}\n",
      "{'name': ' Vintage Seiko 5 Automatic Movement Day Date Dial Mens Analog Wrist Watch U60', 'price': 'GBP 18.19', 'total_sold': ''}\n",
      "{'name': ' Invicta Men 1270 Specialty Chronograph 18k Gold Ion-Plated Stainless Steel Watch', 'price': 'US $90.02', 'total_sold': ''}\n",
      "{'name': ' Citizen Promaster Navihawk Mens Watch JY8035-04E', 'price': 'US $335.00', 'total_sold': ''}\n",
      "{'name': ' Wrist Watch Pobeda Shturmovik IL-2 Vintage Soviet', 'price': 'US $89.43', 'total_sold': ''}\n",
      "{'name': ' Vintage Explorer dial Emes mechanical hand winding collectable watch', 'price': 'AU $120.00', 'total_sold': ''}\n",
      "{'name': \" VINTAGE CITIZEN AUTOMATIC JAPAN WOMEN'S DAY/DATE WATCH 415-a206640-3\", 'price': '', 'total_sold': ''}\n",
      "{'name': ' Vintage Seiko 5 Automatic Movement Day Date Dial Mens Analog Wrist Watch U42', 'price': 'GBP 18.99', 'total_sold': ''}\n",
      "{'name': \" VINTAGE MEN'S CITIZEN 8200 DAY DATE 37MM AUTOMATIC 21-JEWELS WRIST WATCH A9812\", 'price': '', 'total_sold': ''}\n",
      "{'name': ' Seiko 5 Sports SRPE60 SRPE60K1 Automatic Gold Mens Watch', 'price': 'AU $402.00', 'total_sold': ''}\n",
      "{'name': ' Ladies watch', 'price': '', 'total_sold': ''}\n",
      "{'name': ' Watches Unisex', 'price': 'AU $182.39', 'total_sold': ''}\n",
      "{'name': ' Certina Quartz Swiss Made Watch', 'price': '', 'total_sold': ''}\n",
      "{'name': \" Chronograph Watch Men's\", 'price': 'GBP 42.00', 'total_sold': ''}\n",
      "{'name': ' Genuine Watch 3', 'price': '', 'total_sold': ''}\n",
      "{'name': ' Authentic Vintage 18k Rose Gold ROLEX Precision Ref 4399', 'price': '', 'total_sold': ''}\n",
      "{'name': ' 41mm CORGUET Black Bezel Sapphire Glass Date Japan NH35 Automatic Mens Watch', 'price': 'US $115.00', 'total_sold': ''}\n",
      "{'name': \" Victorinox Swiss Army 241794 Women's Alliance Small Diamond Watch\", 'price': 'US $199.99', 'total_sold': ''}\n",
      "{'name': \" OMEGA Seamaster De Ville Date antique Silver Dial Automatic Men's Watch_577161\", 'price': 'US $638.00', 'total_sold': ''}\n",
      "{'name': \" Invicta Men's Watch Pro Diver Automatic Silver Tone Steel Bracelet 8926OB\", 'price': 'US $84.99', 'total_sold': ''}\n",
      "{'name': \" TW Steel Men's CE4002 CEO Tech Chronograph Sport Watch GRAY David Coulthard NEW!\", 'price': 'US $269.99', 'total_sold': '39'}\n",
      "{'name': ' MINI FOCUS Chronograph 24 Hour Men Sports Watches Military Leather Quartz Watch', 'price': '', 'total_sold': ''}\n"
     ]
    }
   ],
   "source": [
    "def main():\n",
    "    base_url = \"https://www.ebay.com/sch/i.html?_from=R40&_nkw=\"\n",
    "    url_separator = \"&_sacat=0&_pgn=\"\n",
    "    \n",
    "    print(\"Hello! this is the ebay data scraping robot.\")\n",
    "    print(\"---------------------------------------------\")\n",
    "    print(\"Enter name of the product you want to extract\")\n",
    "    request = input()\n",
    "    print(\"What kind of extration you want?\")\n",
    "    print(\"--------------------------------\")\n",
    "    print(\"1. Single Page\")\n",
    "    print(\"2. Multiple pages\")\n",
    "    type_of_scraping = input()\n",
    "    \n",
    "    #------Single page\n",
    "    if(type_of_scraping == \"Single\"):\n",
    "        print(\"Enter the page number you want to scrap\")\n",
    "        print(\"---------------------------------------\")\n",
    "        page_num = input()\n",
    "        url = base_url + request + url_separator + page_num\n",
    "        products = get_page_links(get_page(url))\n",
    "        for link in products:\n",
    "            data = detail_data(get_page(link))\n",
    "            print(data)\n",
    "        \n",
    "    #------Multiple pages\n",
    "    elif(type_of_scraping == \"Multiple\"):\n",
    "        print(\"First page number\")\n",
    "        start_page = input()\n",
    "        print(\"Last page number\")\n",
    "        end_page = input()\n",
    "        for pages in range(start_page, end_page):\n",
    "            url = base_url + request + url_separator + str(pages)\n",
    "            products = get_page_links(get_page(url))\n",
    "            for link in products:\n",
    "                data = detail_data(get_page(link))\n",
    "                print(data)\n",
    "                \n",
    "    else:\n",
    "        print(\"Sorry unable to detect:(\")\n",
    "        \n",
    "        \n",
    "if __name__ == '__main__':\n",
    "    main()"
   ]
  },
  {
   "cell_type": "code",
   "execution_count": null,
   "metadata": {},
   "outputs": [],
   "source": []
  }
 ],
 "metadata": {
  "kernelspec": {
   "display_name": "Python 3",
   "language": "python",
   "name": "python3"
  },
  "language_info": {
   "codemirror_mode": {
    "name": "ipython",
    "version": 3
   },
   "file_extension": ".py",
   "mimetype": "text/x-python",
   "name": "python",
   "nbconvert_exporter": "python",
   "pygments_lexer": "ipython3",
   "version": "3.8.3"
  }
 },
 "nbformat": 4,
 "nbformat_minor": 2
}

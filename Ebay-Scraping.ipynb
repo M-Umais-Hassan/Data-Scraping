{
 "cells": [
  {
   "cell_type": "code",
   "execution_count": 1,
   "metadata": {},
   "outputs": [],
   "source": [
    "import requests\n",
    "from bs4 import BeautifulSoup\n",
    "import pandas as pd\n",
    "from matplotlib import pyplot as plt\n",
    "import csv"
   ]
  },
  {
   "cell_type": "markdown",
   "metadata": {},
   "source": [
    "### This function is getting the whole page"
   ]
  },
  {
   "cell_type": "code",
   "execution_count": 2,
   "metadata": {},
   "outputs": [],
   "source": [
    "def get_page(url):\n",
    "    response = requests.get(url)\n",
    "    soup = BeautifulSoup(response.text)\n",
    "    return soup"
   ]
  },
  {
   "cell_type": "markdown",
   "metadata": {},
   "source": [
    "### This function is for getting detailed data of a product"
   ]
  },
  {
   "cell_type": "code",
   "execution_count": 3,
   "metadata": {},
   "outputs": [],
   "source": [
    "def detail_data(soup):\n",
    "    try:\n",
    "        name = soup.find('h1', id='itemTitle').text.strip().replace('Details about  \\xa0', ' ')\n",
    "    except:\n",
    "        name = ''\n",
    "    try:\n",
    "        price = soup.find('div', id='vi-mskumap-none').find('span').text.strip()\n",
    "    except:\n",
    "        price = ''\n",
    "    try:\n",
    "        sold = soup.find('span', class_='vi-qtyS-hot-red').find('a').text.strip().split(' ')[0]\n",
    "    except:\n",
    "        sold = ''\n",
    "    product_details = {\n",
    "        'name' : name,\n",
    "        'price' : price,\n",
    "        'total_sold' : sold\n",
    "    }\n",
    "    \n",
    "    return product_details"
   ]
  },
  {
   "cell_type": "markdown",
   "metadata": {},
   "source": [
    "### This function is getting all urls"
   ]
  },
  {
   "cell_type": "code",
   "execution_count": 4,
   "metadata": {},
   "outputs": [],
   "source": [
    "def get_page_links(soup):\n",
    "    try:\n",
    "        links = soup.find_all(\"a\", class_=\"s-item__link\")\n",
    "    except:\n",
    "        links = []\n",
    "        \n",
    "    urls = [item.get('href') for item in links]\n",
    "    \n",
    "    return urls"
   ]
  },
  {
   "cell_type": "markdown",
   "metadata": {},
   "source": [
    "### This is the main function"
   ]
  },
  {
   "cell_type": "code",
   "execution_count": 6,
   "metadata": {},
   "outputs": [
    {
     "name": "stdout",
     "output_type": "stream",
     "text": [
      "Hello! this is the ebay data scraping robot.\n",
      "---------------------------------------------\n",
      "Enter name of the product you want to extract\n",
      "watches\n",
      "What kind of extration you want?\n",
      "--------------------------------\n",
      "1. Single Page\n",
      "2. Multiple pages\n",
      "Single\n",
      "Enter the page number you want to scrap\n",
      "---------------------------------------\n",
      "1\n",
      "{'name': ' Luxury Men Watch Business Stainless Steel Date Sport Analog Quartz Wrist Watch !', 'price': '', 'total_sold': '1,121'}\n",
      "{'name': \" 2020 Men's Leather Military Casual Analog Quartz Wrist Watch Business Watches\", 'price': 'US $2.89', 'total_sold': '1,292'}\n",
      "{'name': ' SKMEI Men Quartz Watch Outdoor Sport Digital Stainless Steel Wristwatch 1389', 'price': 'GBP 11.87', 'total_sold': '594'}\n",
      "{'name': \" Luxury New Geneva Women Watch Stainless Steel Men's Quartz Analog Wrist Watches\", 'price': 'US $3.99', 'total_sold': '611'}\n",
      "{'name': ' Vintage doxa watch', 'price': 'GBP 79.00', 'total_sold': ''}\n",
      "{'name': ' Luxury Crystal Watch Women Man Waterproof Steel Strap Luminous Wrist Watches', 'price': 'GBP 6.99', 'total_sold': '257'}\n",
      "{'name': \" Invicta Men's 50mm S1 Rally AUTOMATIC Skeletonized Dial Black/Blue Tone SS Watch\", 'price': 'US $139.99', 'total_sold': ''}\n",
      "{'name': ' Vintage Nivada Compensamatic 17 Jewels  Watch Date Gold Plated Swiss Made', 'price': '', 'total_sold': ''}\n",
      "{'name': ' Vintage doxa watch', 'price': 'GBP 69.00', 'total_sold': ''}\n",
      "{'name': ' Vintage Doxa watch', 'price': 'GBP 119.00', 'total_sold': ''}\n",
      "{'name': \" Michael Kors Women's MK6673 Runway Mercer Gold Stainless Steel Watch\", 'price': 'US $74.50', 'total_sold': '99'}\n",
      "{'name': ' Vintage Roamer Sport Watch Gold Plated Incabloc Antimagnetic +Box', 'price': '', 'total_sold': ''}\n",
      "{'name': \" Nixon Men's Sentry SS A3563166-00 42mm Gray Dial Stainless Steel Watch\", 'price': 'US $34.99', 'total_sold': '295'}\n",
      "{'name': ' OMEGA SEAMASTER AUTOMATIC MEN WATCH', 'price': 'GBP 300.00', 'total_sold': ''}\n",
      "{'name': ' Trendy Men Ultra Thin Minimalist Watch Slim Steel Strap Stainless Steel Quartz', 'price': '', 'total_sold': '1,204'}\n",
      "{'name': ' Mens Dual Time Flywheel Automatic Mechanical Watch Rose Gold White Dial Brown', 'price': 'US $68.95', 'total_sold': '45'}\n",
      "{'name': \" Unisex Fashion Casual Women's Watches Men Leather Bracelet Quartz Wrist Watch\", 'price': 'US $2.99', 'total_sold': '106'}\n",
      "{'name': ' LED Digital Screen Wrist Sport Watch For Men Women Unisex Boys Girls Kids UK', 'price': 'GBP 4.49', 'total_sold': '6,667'}\n",
      "{'name': ' VINTAGE SEIKO 5 6309-8840 A6 AUTOMATIC 17 JEWELS MEN WATCH JAPAN', 'price': '', 'total_sold': ''}\n",
      "{'name': \" Vintage Nivada Men's Watch\", 'price': 'GBP 79.00', 'total_sold': ''}\n",
      "{'name': \" Invicta Men's 47mm GRAND DIVER Automatic Black Dial Green Bezel SS 300M Watch\", 'price': 'US $104.99', 'total_sold': ''}\n",
      "{'name': \" Omega Dynamic Automatic, Men's Watch Lovely Condition, Serviced January 2019\", 'price': '', 'total_sold': ''}\n",
      "{'name': ' 2 Timex ladies watches', 'price': '', 'total_sold': ''}\n",
      "{'name': \" Invicta Men's 52mm Bolt Chronograph Gunmetal & Blue Two Tone Gray Dial SS Watch\", 'price': 'US $134.99', 'total_sold': ''}\n",
      "{'name': ' LADIES WATCH BRACELET, EXPANDING.', 'price': '', 'total_sold': ''}\n",
      "{'name': ' Rotary Mens GB6460 Swiss Commando Submariner Watch - 50m with leather strap', 'price': '', 'total_sold': ''}\n",
      "{'name': ' Vintage Waltham Chronograph Swiss Gents Watch 1970s Incabloc 17 Jewels', 'price': '', 'total_sold': ''}\n",
      "{'name': \" Victorinox Swiss Army Men's Quartz Watch Grey Dial Nylon Strap 241515\", 'price': 'US $58.99', 'total_sold': '104'}\n",
      "{'name': \" Longines Flagship 1950's large size 35.5 mm automatic Gents watch sweep seconds\", 'price': 'GBP 275.00', 'total_sold': ''}\n",
      "{'name': ' VINTAGE ZENITH AUTOMATIC WATCH', 'price': '', 'total_sold': ''}\n",
      "{'name': \" Glycine Combat Sub Automatic Black Dial Men's Watch GL0087\", 'price': 'US $302.84', 'total_sold': '30'}\n",
      "{'name': ' Gucci Watch', 'price': '', 'total_sold': ''}\n",
      "{'name': \" Michael Kors Women's MK6718 Ritz Pink Stainless Steel Watch\", 'price': 'US $87.50', 'total_sold': '10'}\n",
      "{'name': ' Vintage Casio Skywalker DW-4000 Quartz Japan Watch', 'price': '', 'total_sold': ''}\n",
      "{'name': \" Victorinox Swiss Army Men's Watch Night Vision Black Dial Strap Quartz 241664\", 'price': 'US $144.99', 'total_sold': ''}\n",
      "{'name': ' Vintage Avia Swiss Watch', 'price': '', 'total_sold': ''}\n",
      "{'name': ' Sport Date Quartz Shock Fashion Men Military Tactical Digital Analog Wrist Watch', 'price': 'US $11.48', 'total_sold': '23'}\n",
      "{'name': ' Vintage Swiss Gents Watch Corvette Automatic 25 Jewels Incabloc 138 Super Rare', 'price': '', 'total_sold': ''}\n",
      "{'name': ' Mens Silver Bridge Manual Mechanical Watch - Blue Leather DIASTERIA 1688', 'price': 'US $114.95', 'total_sold': '26'}\n",
      "{'name': \" Waterproof SKMEI Men's Stainless Steel LED Digital Sport Quartz Wrist Watch Gift\", 'price': 'US $9.38', 'total_sold': '85'}\n",
      "{'name': ' Citizen Automatico Uomo Acciaio Giorno/Data Quadrante Verde Vintage Japan Watch', 'price': 'EUR 22.81', 'total_sold': ''}\n",
      "{'name': \" Bulova C837381 Diamond Bezel Stainless Steel Women's Chrono Watch\", 'price': '', 'total_sold': ''}\n",
      "{'name': ' Invicta Mens 45mm RUSSIAN DIVER Swiss Ronda Movement BLUE DIAL Silver Tone Watch', 'price': 'US $99.89', 'total_sold': ''}\n",
      "{'name': ' VINTAGE SEIKO CRONOS HAND WINDING  WATCH', 'price': '', 'total_sold': ''}\n",
      "{'name': \" Omega Seamaster Professional 300m Ladies Watch excellent 1 year w'ty++\", 'price': 'GBP 895.00', 'total_sold': ''}\n",
      "{'name': \" Vintage Seiko 5 Automatic Movement 6309-601A Japan Made Men's Watch.\", 'price': '', 'total_sold': ''}\n",
      "{'name': ' Rare Vintage Ladies Casio 192 LB-319 Watch', 'price': '', 'total_sold': ''}\n",
      "{'name': ' K-Watch Armbanduhr Herrenuhr Chroghraph XXL Gehäuse Sport Uhr  Echtleder 5ATM', 'price': 'EUR 34.99', 'total_sold': ''}\n",
      "{'name': ' Seiko Quartz Calendar Japan Mens Watch', 'price': '', 'total_sold': ''}\n",
      "{'name': ' ANTIQUE CAMY WINDING SWISS MADE WRIST WATCH 398d-a199130-3', 'price': '', 'total_sold': ''}\n",
      "{'name': \" Brand New Hugo Boss 1513475 Grand Prix Leather Strap Chronograph Men's Watch\", 'price': 'GBP 99.49', 'total_sold': '14'}\n",
      "{'name': ' Storm Ladies Watch', 'price': '', 'total_sold': ''}\n",
      "{'name': ' ORIENT Digital Chronograph Original JAPAN Watch Light Alarm All Stainless Steel', 'price': 'US $42.00', 'total_sold': '39'}\n",
      "{'name': ' UK STOCK! PAGANI DESIGN PD1662 AUTOMATIC GMT BATMAN, GMT-MASTER II HOMAGE', 'price': 'GBP 99.99', 'total_sold': ''}\n",
      "{'name': \" Fashion Women's Diamond Stainless Band Round Dial Quartz Wrist Watch Watches\", 'price': 'US $2.97', 'total_sold': '8'}\n",
      "{'name': \" Fashion Sport Men's Stainless Steel Case Leather Band Quartz Analog Wrist Watch\", 'price': 'US $3.95', 'total_sold': '391'}\n",
      "{'name': \" EMPORIO ARMANI MEN'S WATCH AR2453 BLACK CHRONOGRAPH CERTIFICATE NEW ORIGINAL\", 'price': 'GBP 84.99', 'total_sold': '441'}\n",
      "{'name': \" MEN'S HIP HOP QUAVO GOLD PT LUXURY WATCH & FULL ICED CUBAN BRACELET COMBO SET\", 'price': '', 'total_sold': '302'}\n",
      "{'name': \" 2020 STEELDIVE 'Captain Willard' SD1970, 6105 Homage *FREE STEELDIVE STRAP*\", 'price': 'GBP 104.99', 'total_sold': ''}\n",
      "{'name': ' OFFICIAL THE BEATLES YELLOW SUBMARINE SILICONE DIGITAL WRIST WATCH BNWT *', 'price': 'GBP 5.95', 'total_sold': '114'}\n",
      "{'name': ' HOT Military Army Mens Date Canvas Strap Analog Quartz Sport Wrist Watch Gift', 'price': 'GBP 2.97', 'total_sold': '215'}\n",
      "{'name': \" Bulova 64B127 Men's Accu-Swiss Tellaro Gold-Tone Automatic Watch\", 'price': 'US $217.49', 'total_sold': '47'}\n",
      "{'name': \" Casio MDV106-1A Men's Analog Watch - Black\", 'price': 'US $61.50', 'total_sold': '1,095'}\n"
     ]
    }
   ],
   "source": [
    "def main():\n",
    "    base_url = \"https://www.ebay.com/sch/i.html?_from=R40&_nkw=\"\n",
    "    url_separator = \"&_sacat=0&_pgn=\"\n",
    "    \n",
    "    print(\"Hello! this is the ebay data scraping robot.\")\n",
    "    print(\"---------------------------------------------\")\n",
    "    print(\"Enter name of the product you want to extract\")\n",
    "    request = input()\n",
    "    print(\"What kind of extration you want?\")\n",
    "    print(\"--------------------------------\")\n",
    "    print(\"1. Single Page\")\n",
    "    print(\"2. Multiple pages\")\n",
    "    type_of_scraping = input()\n",
    "    \n",
    "    #------Single page\n",
    "    if(type_of_scraping == \"Single\"):\n",
    "        print(\"Enter the page number you want to scrap\")\n",
    "        print(\"---------------------------------------\")\n",
    "        page_num = input()\n",
    "        url = base_url + request + url_separator + page_num\n",
    "        products = get_page_links(get_page(url))\n",
    "        for link in products:\n",
    "            data = detail_data(get_page(link))\n",
    "            print(data)\n",
    "        \n",
    "    #------Multiple pages\n",
    "    elif(type_of_scraping == \"Multiple\"):\n",
    "        print(\"First page number\")\n",
    "        start_page = input()\n",
    "        print(\"Last page number\")\n",
    "        end_page = input()\n",
    "        for pages in range(start_page, end_page):\n",
    "            url = base_url + request + url_separator + str(pages)\n",
    "            products = get_page_links(get_page(url))\n",
    "            for link in products:\n",
    "                data = detail_data(get_page(link))\n",
    "                print(data)\n",
    "                \n",
    "    else:\n",
    "        print(\"Sorry unable to detect:(\")\n",
    "        \n",
    "        \n",
    "if __name__ == '__main__':\n",
    "    main()"
   ]
  },
  {
   "cell_type": "code",
   "execution_count": null,
   "metadata": {},
   "outputs": [],
   "source": []
  }
 ],
 "metadata": {
  "kernelspec": {
   "display_name": "Python 3",
   "language": "python",
   "name": "python3"
  },
  "language_info": {
   "codemirror_mode": {
    "name": "ipython",
    "version": 3
   },
   "file_extension": ".py",
   "mimetype": "text/x-python",
   "name": "python",
   "nbconvert_exporter": "python",
   "pygments_lexer": "ipython3",
   "version": "3.8.3"
  }
 },
 "nbformat": 4,
 "nbformat_minor": 2
}
